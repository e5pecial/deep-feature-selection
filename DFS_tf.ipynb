{
 "cells": [
  {
   "cell_type": "code",
   "execution_count": 402,
   "metadata": {},
   "outputs": [],
   "source": [
    "import numpy as np\n",
    "import pandas as pd\n",
    "\n",
    "import matplotlib.pyplot as plt\n",
    "import seaborn as sns\n",
    "import tensorflow as tf\n",
    "\n",
    "\n",
    "from IPython import display\n",
    "%matplotlib inline\n",
    "\n",
    "\n",
    "from sklearn.metrics import log_loss, accuracy_score, f1_score, classification_report, roc_auc_score, auc\n",
    "from sklearn.model_selection import KFold, train_test_split"
   ]
  },
  {
   "cell_type": "code",
   "execution_count": 288,
   "metadata": {},
   "outputs": [],
   "source": [
    "from keras.layers import Dense\n",
    "# были некоторые загводздки с Dense слоем, костылем беру из кераса, т.к. итак много времени на дебаг потратил"
   ]
  },
  {
   "cell_type": "markdown",
   "metadata": {},
   "source": [
    "Напишем DFS, честно признав, что опираемся на гугл и реалзиацию статьи от авторов"
   ]
  },
  {
   "cell_type": "code",
   "execution_count": 417,
   "metadata": {},
   "outputs": [],
   "source": [
    "data = pd.read_csv(\"Downloads/train (1).csv\")"
   ]
  },
  {
   "cell_type": "code",
   "execution_count": 125,
   "metadata": {},
   "outputs": [],
   "source": [
    "np.random.seed(777)\n",
    "\n",
    "X = data[data.columns[:-1]].values\n",
    "y = data.y.values"
   ]
  },
  {
   "cell_type": "code",
   "execution_count": 289,
   "metadata": {},
   "outputs": [],
   "source": [
    "X_train, X_test, y_train, y_test = train_test_split(X, y, test_size=0.2, random_state=55)"
   ]
  },
  {
   "cell_type": "code",
   "execution_count": 5,
   "metadata": {},
   "outputs": [],
   "source": [
    "class WeightLayer:\n",
    "    def __init__(self, shape, name, w=None):\n",
    "        self.shape = shape\n",
    "        self.name = name\n",
    "        \n",
    "        with tf.variable_scope(name) as scope:\n",
    "            if w is None:\n",
    "                self.w = tf.get_variable('w', shape=shape, initializer=None, trainable=True)\n",
    "            else:\n",
    "                self.w = w\n",
    "        self.scope = scope\n",
    "        \n",
    "    def __call__(self, inp):\n",
    "        with tf.variable_scope(self.scope):\n",
    "            with tf.name_scope(self.scope.original_name_scope):\n",
    "                out = self.w * inp\n",
    "                return out "
   ]
  },
  {
   "cell_type": "code",
   "execution_count": 184,
   "metadata": {},
   "outputs": [],
   "source": [
    "import os"
   ]
  },
  {
   "cell_type": "code",
   "execution_count": 393,
   "metadata": {},
   "outputs": [],
   "source": [
    "class DFS:\n",
    "    def __init__(self, input_shape, dense_sizes=[64, 64, 32]):\n",
    "        self.input_shape = input_shape        \n",
    "        with tf.variable_scope('dfs') as scope:\n",
    "            self.weight_layer = WeightLayer(input_shape, 'weighted_layer')\n",
    "            self.dense_layers = [Dense(x, activation=tf.nn.relu) for x in dense_sizes] + [Dense(2, activation=None)] # copypasted hack\n",
    "        self.scope = scope\n",
    "    \n",
    "    def __call__(self, inp):\n",
    "        with tf.variable_scope(self.scope):\n",
    "            with tf.name_scope(self.scope.original_name_scope):\n",
    "                _weight_layer = self.weight_layer(inp)\n",
    "                next_var = _weight_layer\n",
    "                for layer in self.dense_layers:\n",
    "                    next_var = layer(next_var)\n",
    "                logits = next_var\n",
    "                out = tf.nn.softmax(logits)\n",
    "        return logits, out\n"
   ]
  },
  {
   "cell_type": "code",
   "execution_count": 265,
   "metadata": {},
   "outputs": [],
   "source": [
    "class_weights = {0.: (y_tr == 0).sum() / y_tr.shape[0], 1.: (y_tr == 1).sum() / y_tr.shape[0]}"
   ]
  },
  {
   "cell_type": "code",
   "execution_count": 405,
   "metadata": {},
   "outputs": [],
   "source": [
    "class DFS_trainboard:\n",
    "    def __init__(self,\n",
    "                 feature_mask,\n",
    "                 session,\n",
    "                 lambda_1=0.003,\n",
    "                 lambda_2=0.2,\n",
    "                 alpha_1=0.00001,\n",
    "                 alpha_2=0.05,\n",
    "                 dense_sizes = [64, 64, 32]):\n",
    "        self.session = session\n",
    "        self.feature_mask = feature_mask\n",
    "        self.n_features = self.feature_mask.sum()\n",
    "  \n",
    "        self.alpha_1 = alpha_1\n",
    "        self.alpha_2 = alpha_2\n",
    "        self.lambda_1 = lambda_1\n",
    "        self.lambda_2 = lambda_2\n",
    "        \n",
    "        self.dense_sizes = dense_sizes\n",
    "        \n",
    "        self.ready = False\n",
    "\n",
    "        \n",
    "    def __get_weighted_layer_regularization_term(self, model, alpha):\n",
    "        with tf.variable_scope(\"weight_reg\"):\n",
    "            return (1-alpha) * tf.reduce_sum(tf.abs(model.weight_layer.w)) +\\\n",
    "                    alpha * tf.reduce_sum(tf.square(model.weight_layer.w))\n",
    "\n",
    "    \n",
    "    def __get_dense_layers_regularization_term(self, model, alpha):\n",
    "        with tf.variable_scope(\"dense_reg\"):\n",
    "            r_t = 0\n",
    "            for layer in model.dense_layers:\n",
    "                r_t += (1-alpha) * tf.reduce_sum(tf.abs(layer.weights[0])) +\\\n",
    "                            alpha * tf.reduce_sum(tf.square(layer.weights[0]))\n",
    "\n",
    "            return r_t\n",
    "             \n",
    "        \n",
    "    def run_analyzer(self, X_train, y_train, X_test, y_test, max_epochs, batch_size=64, warm_up=40, early_stop=20):\n",
    "        self.train_ce_losses = []\n",
    "        self.val_ce_losses = []\n",
    "        self.val_auc_scores = []\n",
    "        self.class_weights = {0.: (y_train == 0).sum() / y_train.shape[0], 1.: (y_train == 1).sum() / y_train.shape[0]}\n",
    "        self.val_weights = np.array([self.class_weights[y] for y in y_test])\n",
    "        self.val_weights = np.array([self.class_weights[y] for y in y_test])\n",
    "\n",
    "\n",
    "        with tf.variable_scope('analyzer') as net_scope:\n",
    "            self.inp = tf.placeholder(tf.float32, [None, self.n_features])\n",
    "            self.model = DFS(self.n_features, self.dense_sizes)\n",
    "                 \n",
    "            self.logits, self.out = self.model(self.inp)\n",
    "            self.target = tf.placeholder(tf.float32, [None])\n",
    "            self.loss_weights = tf.placeholder(tf.float32, [None])\n",
    "            self.cross_entropy = tf.losses.softmax_cross_entropy(tf.one_hot(tf.cast(self.target, tf.int32), 2),\n",
    "                                                                 self.logits,\n",
    "                                                                 weights=self.loss_weights)\n",
    "            self.features_weights_regularization = \\\n",
    "                self.lambda_1 * self.__get_weighted_layer_regularization_term(self.model, self.lambda_2) \n",
    "            self.network_weights_regularization = \\\n",
    "                self.alpha_1 * self.__get_dense_layers_regularization_term(self.model, self.alpha_2)\n",
    "            \n",
    "            self.optimizer = tf.train.AdamOptimizer()\n",
    "\n",
    "            self.loss = self.cross_entropy + self.features_weights_regularization + self.network_weights_regularization\n",
    "            self.train_step = self.optimizer.minimize(self.loss, var_list=tf.trainable_variables())\n",
    "\n",
    "        self.uninitialized_vars = []\n",
    "        for var in tf.all_variables():\n",
    "            try:\n",
    "                sess.run(var)\n",
    "            except tf.errors.FailedPreconditionError:\n",
    "                self.uninitialized_vars.append(var)\n",
    "\n",
    "        init_new_vars_op = tf.initialize_variables(self.uninitialized_vars)\n",
    "        sess.run(init_new_vars_op)\n",
    "        \n",
    "        self.net_scope = net_scope\n",
    "\n",
    "        for epoch in range(max_epochs):\n",
    "            train_ce_loss = 0\n",
    "\n",
    "            for i, (batch_X, batch_y) in enumerate(iterate_minibatches(X_train, y_train, batch_size)):\n",
    "                batch_weights = np.array([self.class_weights[y] for y in batch_y])\n",
    "\n",
    "                batch_loss = self.session.run([self.train_step, self.cross_entropy],\n",
    "                                      feed_dict={self.inp : batch_X[:,self.feature_mask],\n",
    "                                                 self.target: batch_y,\n",
    "                                                 self.loss_weights:batch_weights})\n",
    "\n",
    "                train_ce_loss += batch_loss[1] * batch_X.shape[0]\n",
    "\n",
    "\n",
    "            val_ce_loss = self.session.run(self.cross_entropy,\n",
    "                                           feed_dict={self.inp : X_test[:,self.feature_mask],\n",
    "                                                      self.target: y_test,\n",
    "                                                      self.loss_weights : self.val_weights})\n",
    "            \n",
    "            val_pred = self.session.run(self.out, feed_dict={self.inp : X_test[:,self.feature_mask]})\n",
    "            val_pred = val_pred[:, 1]\n",
    "            val_auc_score = roc_auc_score(y_test, val_pred) \n",
    "\n",
    "            self.val_ce_losses.append(val_ce_loss)\n",
    "            self.val_auc_scores.append(val_auc_score)\n",
    "            self.train_ce_losses.append(train_ce_loss / X_train.shape[0])\n",
    "            f, (pic1, pic2) = plt.subplots(2,1,figsize = (15,15))\n",
    "            display.clear_output(wait=True)\n",
    "            pic1.plot(self.train_ce_losses[0:], label='train cross entropy')\n",
    "            pic1.plot(self.val_ce_losses[0:], label = 'val cross entropy')\n",
    "\n",
    "            pic2.plot(self.val_auc_scores[:], label='val_auc', color='mediumvioletred')\n",
    "            pic1.legend()\n",
    "            pic2.legend()\n",
    "            plt.show()\n",
    "\n",
    "            if epoch > warm_up:\n",
    "                if np.argmax(np.array(self.val_auc_scores[-early_stop:])) == 0:\n",
    "                    print(f\"Early stopped in {epoch} epoch\")\n",
    "                    break\n",
    "\n",
    "def iterate_minibatches(x, y, batchsize, shuffle=True):\n",
    "    '''\n",
    "    copypaste from tensorlayer.iterate.minibatches\n",
    "    '''\n",
    "    if shuffle:\n",
    "        indices = np.arange(y.shape[0])\n",
    "        np.random.shuffle(indices)\n",
    "    for start_idx in range(0, y.shape[0] - batchsize + 1, batchsize):\n",
    "        if shuffle:\n",
    "            excerpt = indices[start_idx:start_idx + batchsize]\n",
    "        else:\n",
    "            excerpt = slice(start_idx, start_idx + batchsize)\n",
    "        yield x[excerpt], y[excerpt]"
   ]
  },
  {
   "cell_type": "code",
   "execution_count": 406,
   "metadata": {},
   "outputs": [
    {
     "data": {
      "image/png": "[encoded data removed]",
      "text/plain": [
       "<Figure size 1080x1080 with 2 Axes>"
      ]
     },
     "metadata": {},
     "output_type": "display_data"
    },
    {
     "name": "stdout",
     "output_type": "stream",
     "text": [
      "Early stopped in 54 epoch\n"
     ]
    }
   ],
   "source": [
    "tf.reset_default_graph()\n",
    "sess = tf.Session()\n",
    "\n",
    "dfs = DFS_trainboard(np.ones(X.shape[1]).astype(bool), sess)\n",
    "dfs.run_analyzer(X_train, y_train, X_test, y_test, 100)"
   ]
  },
  {
   "cell_type": "code",
   "execution_count": 407,
   "metadata": {},
   "outputs": [
    {
     "name": "stdout",
     "output_type": "stream",
     "text": [
      "Best AUC-ROC: 0.8667008196721311\n"
     ]
    }
   ],
   "source": [
    "print(\"Best AUC-ROC:\", max(dfs.val_auc_scores))"
   ]
  },
  {
   "cell_type": "markdown",
   "metadata": {},
   "source": [
    "Модель работатает крайне неустойчиво, сетка то очень сильно перееобучается, то работает приемлимо. Вероятно, это связано с природой данных, а возможно стоит обучать подольше и потюнить гиперпараметры, жалею, что не сохранял в процессе картинки"
   ]
  },
  {
   "cell_type": "code",
   "execution_count": 369,
   "metadata": {},
   "outputs": [],
   "source": [
    "from sklearn.linear_model import Lasso, LogisticRegression, ElasticNet"
   ]
  },
  {
   "cell_type": "markdown",
   "metadata": {},
   "source": [
    "Возьмем фичи с наиболее значимыми коэффициентами из линейной модели и посмотрим, насколько они совпадут с фичами от DFS"
   ]
  },
  {
   "cell_type": "code",
   "execution_count": 391,
   "metadata": {},
   "outputs": [
    {
     "data": {
      "text/plain": [
       "LogisticRegression(C=0.02, class_weight=None, dual=False, fit_intercept=True,\n",
       "          intercept_scaling=1, max_iter=100, multi_class='ovr', n_jobs=1,\n",
       "          penalty='l1', random_state=2, solver='liblinear', tol=0.0001,\n",
       "          verbose=0, warm_start=False)"
      ]
     },
     "execution_count": 391,
     "metadata": {},
     "output_type": "execute_result"
    }
   ],
   "source": [
    "lin_model = LogisticRegression(penalty='l1', C=0.02, random_state=2)\n",
    "\n",
    "lin_model.fit(X_train, y_train)"
   ]
  },
  {
   "cell_type": "code",
   "execution_count": 392,
   "metadata": {},
   "outputs": [],
   "source": [
    "lin_model = np.sort(np.where(lin_model.coef_[0] != 0)[0])"
   ]
  },
  {
   "cell_type": "code",
   "execution_count": 390,
   "metadata": {},
   "outputs": [
    {
     "data": {
      "text/plain": [
       "0"
      ]
     },
     "execution_count": 390,
     "metadata": {},
     "output_type": "execute_result"
    }
   ],
   "source": [
    "len(lin_model)"
   ]
  },
  {
   "cell_type": "markdown",
   "metadata": {},
   "source": [
    "Оценим по топ-100:"
   ]
  },
  {
   "cell_type": "code",
   "execution_count": 366,
   "metadata": {},
   "outputs": [],
   "source": [
    "dfs_best_features = np.argsort(sess.run(dfs.model.weight_layer.w))[::-1][:100]"
   ]
  },
  {
   "cell_type": "code",
   "execution_count": 367,
   "metadata": {},
   "outputs": [
    {
     "data": {
      "text/plain": [
       "34"
      ]
     },
     "execution_count": 367,
     "metadata": {},
     "output_type": "execute_result"
    }
   ],
   "source": [
    "len(set(lin_model[:100]) & set(dfs_best_features))"
   ]
  },
  {
   "cell_type": "markdown",
   "metadata": {},
   "source": [
    "Довольно мало все равно"
   ]
  },
  {
   "cell_type": "code",
   "execution_count": 116,
   "metadata": {},
   "outputs": [],
   "source": [
    "from sklearn.pipeline import Pipeline\n",
    "from sklearn.ensemble import RandomForestClassifier\n",
    "from sklearn.feature_selection import SelectFromModel\n",
    "\n",
    "from sklearn.svm import LinearSVC"
   ]
  },
  {
   "cell_type": "code",
   "execution_count": 408,
   "metadata": {},
   "outputs": [],
   "source": [
    "clf = Pipeline([\n",
    "  ('feature_selection', SelectFromModel(LogisticRegression(penalty=\"l1\", C=0.02))),\n",
    "  ('classification', RandomForestClassifier(n_estimators=30, max_depth=4))\n",
    "])"
   ]
  },
  {
   "cell_type": "code",
   "execution_count": 409,
   "metadata": {},
   "outputs": [
    {
     "name": "stdout",
     "output_type": "stream",
     "text": [
      "valid aur_roc: 0.81551\n",
      "valid aur_roc: 0.78088\n",
      "valid aur_roc: 0.84877\n",
      "valid aur_roc: 0.87859\n",
      "valid aur_roc: 0.84347\n"
     ]
    }
   ],
   "source": [
    "CV_tests(X, y, model=clf)"
   ]
  },
  {
   "cell_type": "code",
   "execution_count": null,
   "metadata": {},
   "outputs": [],
   "source": [
    "Попробуем еще вот такой адский спосо"
   ]
  },
  {
   "cell_type": "code",
   "execution_count": null,
   "metadata": {},
   "outputs": [],
   "source": []
  },
  {
   "cell_type": "markdown",
   "metadata": {},
   "source": [
    "\n",
    "_керасом пользоваться != писать сетки_"
   ]
  }
 ],
 "metadata": {
  "kernelspec": {
   "display_name": "Python 3",
   "language": "python",
   "name": "python3"
  },
  "language_info": {
   "codemirror_mode": {
    "name": "ipython",
    "version": 3
   },
   "file_extension": ".py",
   "mimetype": "text/x-python",
   "name": "python",
   "nbconvert_exporter": "python",
   "pygments_lexer": "ipython3",
   "version": "3.6.3"
  }
 },
 "nbformat": 4,
 "nbformat_minor": 2
}
